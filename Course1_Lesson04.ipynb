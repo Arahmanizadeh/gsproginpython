{
  "cells": [
    {
      "attachments": {},
      "cell_type": "markdown",
      "metadata": {},
      "source": [
        "[![Open In Colab](https://colab.research.google.com/assets/colab-badge.svg)](https://colab.research.google.com/github/Arahmanizadeh/gsproginpython/blob/main/Course1_Lesson04.ipynb)"
      ]
    },
    {
      "cell_type": "markdown",
      "metadata": {
        "id": "WCvHpCaxya_D"
      },
      "source": [
        "# ![image.png](data:image/png;base64,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)"
      ]
    },
    {
      "cell_type": "markdown",
      "metadata": {
        "id": "M1euSrxnjM5B"
      },
      "source": [
        "## download file to colab"
      ]
    },
    {
      "cell_type": "code",
      "execution_count": null,
      "metadata": {
        "colab": {
          "base_uri": "https://localhost:8080/"
        },
        "id": "5hPi0ROayWir",
        "outputId": "e7cd33a9-1dde-4da6-9d36-285af523b9df"
      },
      "outputs": [],
      "source": [
        "!wget https://github.com/datasets/world-cities/raw/master/data/world-cities.csv"
      ]
    },
    {
      "cell_type": "markdown",
      "metadata": {
        "id": "qhfEF2RqjH-X"
      },
      "source": [
        "## File Handling"
      ]
    },
    {
      "cell_type": "markdown",
      "metadata": {
        "id": "m-dr8pA4jLYW"
      },
      "source": [
        "The open() function takes two parameters; filename, and mode.\n",
        "\n",
        "There are four different methods (modes) for opening a file:\n",
        "\n",
        "* \"r\" - Read - Default value. Opens a file for reading, error if the file \n",
        "does not exist\n",
        "\n",
        "* \"a\" - Append - Opens a file for appending, creates the file if it does not exist\n",
        "\n",
        "* \"w\" - Write - Opens a file for writing, creates the file if it does not exist\n",
        "\n",
        "* \"x\" - Create - Creates the specified file, returns an error if the file exists\n",
        "\n"
      ]
    },
    {
      "cell_type": "markdown",
      "metadata": {
        "id": "UcJNENYjjUE0"
      },
      "source": [
        "## csv files"
      ]
    },
    {
      "cell_type": "markdown",
      "metadata": {
        "id": "91MB8EpTIHsT"
      },
      "source": [
        "## Calculating distance"
      ]
    },
    {
      "cell_type": "code",
      "execution_count": 10,
      "metadata": {
        "id": "ZR5LbRSTdJdp"
      },
      "outputs": [],
      "source": [
        "output_filename = 'cities_distance.csv'\n",
        "\n",
        "with open(output_filename, mode='w', newline='', encoding='utf-8') as output_file:\n",
        "    fieldnames = ['city', 'distance_to_Tabriz']\n",
        "    csv_writer = csv.DictWriter(output_file, fieldnames=fieldnames)\n",
        "    csv_writer.writeheader()        \n",
        "    \n",
        "    for city, dist in city_distance_dict.items():\n",
        "        csv_writer.writerow({'city': city, 'distance_to_Tabriz': dist})"
      ]
    },
    {
      "cell_type": "markdown",
      "metadata": {
        "id": "GwHEWRS-usi5"
      },
      "source": [
        "## Filename Pattern Matching"
      ]
    },
    {
      "cell_type": "markdown",
      "metadata": {
        "id": "XA4Cmgo1zqJD"
      },
      "source": [
        "### Using String Methods"
      ]
    },
    {
      "cell_type": "markdown",
      "metadata": {
        "id": "rbOCivkc0kjd"
      },
      "source": [
        "### Filename Pattern Matching Using fnmatch"
      ]
    },
    {
      "cell_type": "markdown",
      "metadata": {
        "id": "5Iq43v4w5hXf"
      },
      "source": [
        "### Filename Pattern Matching Using glob"
      ]
    },
    {
      "cell_type": "markdown",
      "metadata": {
        "id": "8Ppfd5Of6FL-"
      },
      "source": [
        "This finds all text (.txt) files that contain digits in the filename:"
      ]
    },
    {
      "cell_type": "markdown",
      "metadata": {
        "id": "MTiJxtxZ6wTp"
      },
      "source": [
        "glob makes it easy to search for files recursively in subdirectories too:"
      ]
    },
    {
      "cell_type": "markdown",
      "metadata": {
        "id": "6vH-xrKf76VM"
      },
      "source": [
        "Walking a directory tree and printing the names of the directories and files\n"
      ]
    },
    {
      "cell_type": "markdown",
      "metadata": {
        "id": "GNjRfWtp8UnM"
      },
      "source": [
        "Making Temporary Files and Directories"
      ]
    },
    {
      "cell_type": "markdown",
      "metadata": {
        "id": "7-WdV6Z12cjF"
      },
      "source": [
        "# end of lesson04"
      ]
    }
  ],
  "metadata": {
    "colab": {
      "collapsed_sections": [
        "M1euSrxnjM5B",
        "qhfEF2RqjH-X",
        "UcJNENYjjUE0",
        "91MB8EpTIHsT",
        "rbOCivkc0kjd"
      ],
      "provenance": []
    },
    "kernelspec": {
      "display_name": "Python 3",
      "name": "python3"
    },
    "language_info": {
      "name": "python"
    }
  },
  "nbformat": 4,
  "nbformat_minor": 0
}
